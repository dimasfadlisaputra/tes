{
 "cells": [
  {
   "cell_type": "code",
   "execution_count": 1,
   "metadata": {},
   "outputs": [],
   "source": [
    "import pandas as pd\n",
    "import numpy as np"
   ]
  },
  {
   "cell_type": "code",
   "execution_count": 4,
   "metadata": {},
   "outputs": [],
   "source": [
    "df = pd.read_csv('Iris.csv')"
   ]
  },
  {
   "cell_type": "code",
   "execution_count": 5,
   "metadata": {},
   "outputs": [
    {
     "name": "stdout",
     "output_type": "stream",
     "text": [
      "Id                 int64\n",
      "SepalLengthCm    float64\n",
      "SepalWidthCm     float64\n",
      "PetalLengthCm    float64\n",
      "PetalWidthCm     float64\n",
      "Species           object\n",
      "dtype: object\n"
     ]
    }
   ],
   "source": [
    "print(df.dtypes)"
   ]
  },
  {
   "cell_type": "code",
   "execution_count": 6,
   "metadata": {},
   "outputs": [],
   "source": [
    "#Jawaban\n",
    "#Tipe Data dari kolom yang ada di dataset\n",
    "\n",
    "#Kolom  \"Id\" memiliki tipe data = int64\n",
    "#Kolom \"SepalLengthCm\" memiliki tipe data = float64\n",
    "#Kolom \"Species\" memiliki tipe data = object"
   ]
  },
  {
   "cell_type": "code",
   "execution_count": 7,
   "metadata": {},
   "outputs": [
    {
     "name": "stdout",
     "output_type": "stream",
     "text": [
      "150\n"
     ]
    }
   ],
   "source": [
    "row_count = df.shape[0]\n",
    "print(row_count)"
   ]
  },
  {
   "cell_type": "code",
   "execution_count": 8,
   "metadata": {},
   "outputs": [
    {
     "name": "stdout",
     "output_type": "stream",
     "text": [
      "      Id         Species\n",
      "0      1     Iris-setosa\n",
      "1      2     Iris-setosa\n",
      "2      3     Iris-setosa\n",
      "3      4     Iris-setosa\n",
      "4      5     Iris-setosa\n",
      "..   ...             ...\n",
      "145  146  Iris-virginica\n",
      "146  147  Iris-virginica\n",
      "147  148  Iris-virginica\n",
      "148  149  Iris-virginica\n",
      "149  150  Iris-virginica\n",
      "\n",
      "[150 rows x 2 columns]\n"
     ]
    }
   ],
   "source": [
    "df_subsets = df[['Id', 'Species']]\n",
    "print(df_subsets)"
   ]
  },
  {
   "cell_type": "code",
   "execution_count": 9,
   "metadata": {},
   "outputs": [
    {
     "name": "stdout",
     "output_type": "stream",
     "text": [
      "   Id  SepalLengthCm  SepalWidthCm  PetalLengthCm  PetalWidthCm      Species\n",
      "0   1            5.1           3.5            1.4           0.2  Iris-setosa\n",
      "1   2            4.9           3.0            1.4           0.2  Iris-setosa\n",
      "2   3            4.7           3.2            1.3           0.2  Iris-setosa\n",
      "3   4            4.6           3.1            1.5           0.2  Iris-setosa\n",
      "4   5            5.0           3.6            1.4           0.2  Iris-setosa\n",
      "5   6            5.4           3.9            1.7           0.4  Iris-setosa\n",
      "6   7            4.6           3.4            1.4           0.3  Iris-setosa\n",
      "7   8            5.0           3.4            1.5           0.2  Iris-setosa\n",
      "8   9            4.4           2.9            1.4           0.2  Iris-setosa\n",
      "9  10            4.9           3.1            1.5           0.1  Iris-setosa\n"
     ]
    }
   ],
   "source": [
    "print(df.iloc[0:10])"
   ]
  },
  {
   "cell_type": "code",
   "execution_count": 10,
   "metadata": {},
   "outputs": [
    {
     "name": "stdout",
     "output_type": "stream",
     "text": [
      "    Id      Species\n",
      "11  12  Iris-setosa\n",
      "12  13  Iris-setosa\n",
      "13  14  Iris-setosa\n",
      "14  15  Iris-setosa\n",
      "15  16  Iris-setosa\n"
     ]
    }
   ],
   "source": [
    "df_subset2 = df[['Id', 'Species']].iloc[11:16]\n",
    "print(df_subset2)"
   ]
  },
  {
   "cell_type": "code",
   "execution_count": 11,
   "metadata": {},
   "outputs": [
    {
     "name": "stdout",
     "output_type": "stream",
     "text": [
      "   Id  SepalLengthCm  SepalWidthCm  PetalLengthCm  PetalWidthCm      Species\n",
      "0   1            5.1           3.5            1.4           0.2  Iris-setosa\n",
      "1   2            4.9           3.0            1.4           0.2  Iris-setosa\n",
      "2   3            4.7           3.2            1.3           0.2  Iris-setosa\n",
      "3   4            4.6           3.1            1.5           0.2  Iris-setosa\n",
      "4   5            5.0           3.6            1.4           0.2  Iris-setosa\n",
      "5   6            5.4           3.9            1.7           0.4  Iris-setosa\n",
      "6   7            4.6           3.4            1.4           0.3  Iris-setosa\n",
      "7   8            5.0           3.4            1.5           0.2  Iris-setosa\n"
     ]
    }
   ],
   "source": [
    "print(df.head(8))"
   ]
  }
 ],
 "metadata": {
  "kernelspec": {
   "display_name": "Python 3.8.10 64-bit",
   "language": "python",
   "name": "python3"
  },
  "language_info": {
   "codemirror_mode": {
    "name": "ipython",
    "version": 3
   },
   "file_extension": ".py",
   "mimetype": "text/x-python",
   "name": "python",
   "nbconvert_exporter": "python",
   "pygments_lexer": "ipython3",
   "version": "3.8.10"
  },
  "orig_nbformat": 4,
  "vscode": {
   "interpreter": {
    "hash": "916dbcbb3f70747c44a77c7bcd40155683ae19c65e1c03b4aa3499c5328201f1"
   }
  }
 },
 "nbformat": 4,
 "nbformat_minor": 2
}
